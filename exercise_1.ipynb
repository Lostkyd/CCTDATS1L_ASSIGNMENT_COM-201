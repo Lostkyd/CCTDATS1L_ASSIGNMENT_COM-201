{
  "nbformat": 4,
  "nbformat_minor": 0,
  "metadata": {
    "colab": {
      "provenance": [],
      "collapsed_sections": [
        "xlFYHSIYCTT3"
      ],
      "include_colab_link": true
    },
    "kernelspec": {
      "name": "python3",
      "display_name": "Python 3"
    },
    "language_info": {
      "name": "python"
    }
  },
  "cells": [
    {
      "cell_type": "markdown",
      "metadata": {
        "id": "view-in-github",
        "colab_type": "text"
      },
      "source": [
        "<a href=\"https://colab.research.google.com/github/Lostkyd/CCTDATS1L_ASSIGNMENT/blob/main/exercise_1.ipynb\" target=\"_parent\"><img src=\"https://colab.research.google.com/assets/colab-badge.svg\" alt=\"Open In Colab\"/></a>"
      ]
    },
    {
      "cell_type": "markdown",
      "source": [
        "# Exercise 1\n",
        "\n",
        "Please follow the instructions for each number"
      ],
      "metadata": {
        "id": "KdbulXu6s8v0"
      }
    },
    {
      "cell_type": "markdown",
      "source": [
        "## Lists"
      ],
      "metadata": {
        "id": "DKVjMPyB2TaJ"
      }
    },
    {
      "cell_type": "markdown",
      "source": [
        "1. Create a list of lists. Use the three lists below\n",
        "\n",
        "  list1 = [orange, banana]\n",
        "\n",
        "  list2 = [1, 2]\n",
        "\n",
        "  list3 = [True, False]\n",
        "\n",
        "  -----------------------------\n",
        "\n",
        "  **Expected output:**\n",
        "\n",
        "  [[\"orange\", \"banana\"], [1, 2], [True, False]]"
      ],
      "metadata": {
        "id": "2kSgRWVFtAot"
      }
    },
    {
      "cell_type": "code",
      "execution_count": 23,
      "metadata": {
        "id": "dlHNQj0Zs7gT",
        "colab": {
          "base_uri": "https://localhost:8080/"
        },
        "outputId": "b2c27101-024a-40e3-ea9a-88c3e9bc756e"
      },
      "outputs": [
        {
          "output_type": "stream",
          "name": "stdout",
          "text": [
            "[['orange, banana'], [1, 2], [True, False]]\n"
          ]
        }
      ],
      "source": [
        "#Create a list of lists. Use the three lists below\n",
        "list1 = [\"orange, banana\"]\n",
        "list2 = [1, 2]\n",
        "list3 = [True, False]\n",
        "\n",
        "Final_list = [list1, list2, list3]\n",
        "#Expected output:\n",
        "print(Final_list)"
      ]
    },
    {
      "cell_type": "markdown",
      "source": [
        "2. Remove all strings in the list\n",
        "\n",
        "  mylist = [\"A\", 1, \"B\", 10, \"C\", 100, \"D\"]\n",
        "\n",
        "  ----------------------------\n",
        "\n",
        "  **Expected output**:\n",
        "   \n",
        "  [1, 10, 100]"
      ],
      "metadata": {
        "id": "ClYtcLoK3RrX"
      }
    },
    {
      "cell_type": "code",
      "source": [
        "#Remove all strings in the list\n",
        "mylist = [\"A\", 1, \"B\", 10, \"C\", 100, \"D\"]\n",
        "\n",
        "new_list = [letters for letters in mylist if type(letters) != str]\n",
        "#Expected output:\n",
        "print (new_list)\n"
      ],
      "metadata": {
        "id": "dKgTNDlz4G7l",
        "colab": {
          "base_uri": "https://localhost:8080/"
        },
        "outputId": "83be64e3-408d-45b3-b5df-b7d15c36079d"
      },
      "execution_count": 22,
      "outputs": [
        {
          "output_type": "stream",
          "name": "stdout",
          "text": [
            "[1, 10, 100]\n"
          ]
        }
      ]
    },
    {
      "cell_type": "markdown",
      "source": [
        "3. Create a list that will contain the combination of each element in list1 and list2\n",
        "\n",
        "  list1 = [\"DA\", \"SCI\"]\n",
        "\n",
        "  list2 = [\"TA\", \"ENCE\"]\n",
        "\n",
        "  ----------------------------\n",
        "\n",
        "  **Expected output:**\n",
        "\n",
        "  ['DATA', 'SCIENCE']"
      ],
      "metadata": {
        "id": "g0UBXXSG4un9"
      }
    },
    {
      "cell_type": "code",
      "source": [
        "#Create a list that will contain the combination of each element in list1 and list2\n",
        "list1 = [\"DA\", \"SCI\"]\n",
        "list2 = [\"TA\", \"ENCE\"]\n",
        "\n",
        "Final_list = []\n",
        "\n",
        "for x, y in zip(list1, list2):\n",
        "  Final_list.append(x + y)\n",
        "#Expected output:\n",
        "print(Final_list)"
      ],
      "metadata": {
        "id": "HBZ6liCD8LTS",
        "colab": {
          "base_uri": "https://localhost:8080/"
        },
        "outputId": "bd54787e-4868-4a3b-c482-135319acce03"
      },
      "execution_count": 21,
      "outputs": [
        {
          "output_type": "stream",
          "name": "stdout",
          "text": [
            "['DATA', 'SCIENCE']\n"
          ]
        }
      ]
    },
    {
      "cell_type": "markdown",
      "source": [
        "4. Remove empty strings in the list\n",
        "\n",
        "  list1 = [\"I\", \"\", \"LOVE\", \"DATA\", \"\", \"SCIENCE\"]\n",
        "\n",
        "  -----------------------\n",
        "\n",
        "  **Expected output:**\n",
        "\n",
        "  [\"I\", \"LOVE\", \"DATA\", \"SCIENCE\"]"
      ],
      "metadata": {
        "id": "03G2IFty6WCn"
      }
    },
    {
      "cell_type": "code",
      "source": [
        "#Using list comprehension, create a new list that will only contain the prime numbers in the given list\n",
        "list1 = [\"I\", \"\", \"LOVE\", \"DATA\", \"\", \"SCIENCE\"]\n",
        "\n",
        "new_list =  [blank for blank in list1 if(blank) != \"\"]\n",
        "#Expected output:\n",
        "print(new_list)"
      ],
      "metadata": {
        "id": "8N2rGftt7Ljr",
        "colab": {
          "base_uri": "https://localhost:8080/"
        },
        "outputId": "27d7b1ab-05d6-4395-8cff-3802775a6a48"
      },
      "execution_count": 20,
      "outputs": [
        {
          "output_type": "stream",
          "name": "stdout",
          "text": [
            "['I', 'LOVE', 'DATA', 'SCIENCE']\n"
          ]
        }
      ]
    },
    {
      "cell_type": "markdown",
      "source": [
        "5. Using list comprehension, create a new list that will only contain the prime numbers in the given list\n",
        "\n",
        "  list1 = [1, 2, 3, 4, 5, 6, 7, 8, 9, 10]\n",
        "\n",
        "  -----------------------------\n",
        "\n",
        "  **Expected output:**\n",
        "  \n",
        "  [2, 3, 5, 7]"
      ],
      "metadata": {
        "id": "wuqBS0Vg7JPw"
      }
    },
    {
      "cell_type": "code",
      "source": [
        "#Using list comprehension, create a new list that will only contain the prime numbers in the given list\n",
        "list1 = [1, 2, 3, 4, 5, 6, 7, 8, 9, 10]\n",
        "\n",
        "def numPrime(num):\n",
        "    if num <= 1:\n",
        "        return False\n",
        "    elif num <= 3:\n",
        "        return True\n",
        "    elif num % 2 == 0 or num % 3 == 0:\n",
        "        return False\n",
        "    i = 5\n",
        "    while i ** i <= num:\n",
        "        if num % i == 0 or num % (i + 2) == 0:\n",
        "            return False\n",
        "        i += 6\n",
        "    return True\n",
        "pnumber = [x for x in list1 if numPrime(x)]\n",
        "#Expected output:\n",
        "print(pnumber)\n"
      ],
      "metadata": {
        "id": "XoykVs457JkE",
        "colab": {
          "base_uri": "https://localhost:8080/"
        },
        "outputId": "f5cf8814-0ebe-45e6-b4d2-25adbb745d60"
      },
      "execution_count": 16,
      "outputs": [
        {
          "output_type": "stream",
          "name": "stdout",
          "text": [
            "[2, 3, 5, 7]\n"
          ]
        }
      ]
    },
    {
      "cell_type": "markdown",
      "source": [],
      "metadata": {
        "id": "-lR1qX1a9g0S"
      }
    },
    {
      "cell_type": "markdown",
      "source": [
        "## Tuples"
      ],
      "metadata": {
        "id": "wy1NZOp49iC7"
      }
    },
    {
      "cell_type": "markdown",
      "source": [
        "1. Print the value \"National University\" in the nested tuple.\n",
        "\n",
        "  mytuple = (\"Manila\", [19, 00, \"National University\"], (25, 8, 2023))\n",
        "\n",
        "  --------------------------------\n",
        "\n",
        "  **Expected output:**\n",
        "\n",
        "  National University\n"
      ],
      "metadata": {
        "id": "ldovi4eh9jdF"
      }
    },
    {
      "cell_type": "code",
      "source": [
        "#Print the value \"National University\" in the nested tuple.\n",
        "mytuple = (\"Manila\", [19, 00, \"National University\"], (25, 8, 2023))\n",
        "NU = mytuple[1][2]\n",
        "#Expected output:\n",
        "print(NU)"
      ],
      "metadata": {
        "colab": {
          "base_uri": "https://localhost:8080/"
        },
        "id": "6BM4qMEV98l1",
        "outputId": "fbc03269-3f15-4861-d764-cbb6eef43a8f"
      },
      "execution_count": 15,
      "outputs": [
        {
          "output_type": "stream",
          "name": "stdout",
          "text": [
            "National University\n"
          ]
        }
      ]
    },
    {
      "cell_type": "markdown",
      "source": [
        "2. Given this tuple\n",
        "\n",
        "  mytuple = (1, 2, 3, 4, 5)\n",
        "\n",
        "  Unpack the following tuple into five variables and display the value of each variable.\n",
        "\n",
        "  --------------------------------\n",
        "\n",
        "  **Expected output:**\n",
        "\n",
        "  print(a) # should print 1\n",
        "\n",
        "  print(b) # should print 2\n",
        "\n",
        "  print(c) # should print 3\n",
        "\n",
        "  print(d) # should print 4\n",
        "\n",
        "  print(d) # should print 5"
      ],
      "metadata": {
        "id": "WumP_Ic4-22c"
      }
    },
    {
      "cell_type": "code",
      "source": [
        "mytuple = (1, 2, 3, 4, 5)\n",
        "\n",
        "#Unpack the following tuple into five variables and display the value of each variable.\n",
        "a, b, c, d, e = mytuple\n",
        "\n",
        "#Expected output:\n",
        "print(a)  # should print 1\n",
        "print(b)  # should print 2\n",
        "print(c)  # should print 3\n",
        "print(d)  # should print 4\n",
        "print(e)  # should print 5"
      ],
      "metadata": {
        "id": "aTUeI4uw_X9H",
        "colab": {
          "base_uri": "https://localhost:8080/"
        },
        "outputId": "b863433d-119e-4d8f-893b-2b327d30744d"
      },
      "execution_count": 14,
      "outputs": [
        {
          "output_type": "stream",
          "name": "stdout",
          "text": [
            "1\n",
            "2\n",
            "3\n",
            "4\n",
            "5\n"
          ]
        }
      ]
    },
    {
      "cell_type": "markdown",
      "source": [
        "3. Given this tuple\n",
        "\n",
        "  mytuple = (1, 2, 3, 4, 5, 6, 7, 8, 9, 10)\n",
        "\n",
        "  Use range indexing/slicing to create a new tuple that will only contain the numbers 6 to 10\n",
        "\n",
        "  --------------------------------\n",
        "\n",
        "  **Expected output:**\n",
        "\n",
        "  print(newtuple)\n",
        "\n",
        "  (6, 7, 8, 9, 10)"
      ],
      "metadata": {
        "id": "yXX3t_Xt_mQu"
      }
    },
    {
      "cell_type": "code",
      "source": [
        "#Given this tuple\n",
        "mytuple = (1, 2, 3, 4, 5, 6, 7, 8, 9, 10)\n",
        "\n",
        "#Use range indexing/slicing to create a new tuple that will only contain the numbers 6 to 10\n",
        "newtuple = mytuple[5:]\n",
        "\n",
        "#Expected output:\n",
        "print(newtuple)"
      ],
      "metadata": {
        "id": "_o6TDiOZ_mkB",
        "colab": {
          "base_uri": "https://localhost:8080/"
        },
        "outputId": "63ab6502-274e-4116-f5f9-0aa690c6d4e2"
      },
      "execution_count": 24,
      "outputs": [
        {
          "output_type": "stream",
          "name": "stdout",
          "text": [
            "(6, 7, 8, 9, 10)\n"
          ]
        }
      ]
    },
    {
      "cell_type": "markdown",
      "source": [
        "4. Given this tuple\n",
        "\n",
        "  mytuple = (\"NU\", \"NU\", 55, \"i love data science!\", False, \"NU\", 23)\n",
        "\n",
        "  Count the number of occurrences of the word \"NU\"\n",
        "\n",
        "  --------------------------------\n",
        "\n",
        "  **Expected output:**\n",
        "\n",
        "  3"
      ],
      "metadata": {
        "id": "D-VxNmfJAgi2"
      }
    },
    {
      "cell_type": "code",
      "source": [
        "#Given this tuple\n",
        "mytuple = (\"NU\", \"NU\", 55, \"i love data science!\", False, \"NU\", 23)\n",
        "\n",
        "#Count the number of occurrences of the word \"NU\"\n",
        "occur = mytuple.count(\"NU\")\n",
        "\n",
        "#Expected output:\n",
        "print(occur)"
      ],
      "metadata": {
        "id": "7z66oeBSAg2d",
        "colab": {
          "base_uri": "https://localhost:8080/"
        },
        "outputId": "c082578c-62b1-4731-ed0a-4b3ecb27fb9e"
      },
      "execution_count": 26,
      "outputs": [
        {
          "output_type": "stream",
          "name": "stdout",
          "text": [
            "3\n"
          ]
        }
      ]
    },
    {
      "cell_type": "markdown",
      "source": [
        "5. Given this tuple of tuples\n",
        "\n",
        "  mytuple = (('A', 2),('B', 1),('C', 4), ('D', 3))\n",
        "\n",
        "  Sort mytuple by the second item of each inner tuple\n",
        "\n",
        "  --------------------------------\n",
        "\n",
        "  **Expected output:**\n",
        "\n",
        " (('B', 1),('A', 2),('D', 3), ('C', 4))\n",
        "\n"
      ],
      "metadata": {
        "id": "X59cGUyuA6no"
      }
    },
    {
      "cell_type": "code",
      "source": [
        "#Given this tuple of tuples\n",
        "mytuple = (('A', 2),('B', 1),('C', 4), ('D', 3))\n",
        "\n",
        "#Sort mytuple by the second item of each inner tuple\n",
        "sorted_tuple = sorted(mytuple, key=lambda x: x[1])\n",
        "\n",
        "#Expected output:\n",
        "print(sorted_tuple)"
      ],
      "metadata": {
        "id": "QdLPtKRhA67A",
        "colab": {
          "base_uri": "https://localhost:8080/"
        },
        "outputId": "7ea548a5-1752-4f2c-de83-e06ba235c6cc"
      },
      "execution_count": 28,
      "outputs": [
        {
          "output_type": "stream",
          "name": "stdout",
          "text": [
            "[('B', 1), ('A', 2), ('D', 3), ('C', 4)]\n"
          ]
        }
      ]
    },
    {
      "cell_type": "markdown",
      "source": [
        "# Set"
      ],
      "metadata": {
        "id": "xlFYHSIYCTT3"
      }
    },
    {
      "cell_type": "markdown",
      "source": [
        "1. Given this set and list\n",
        "\n",
        "  myset = {\"A\", \"B\", \"C\"}\n",
        "\n",
        "  mylist = [\"D\", \"E\", \"F\"]\n",
        "\n",
        "  Insert all items in the list into the set\n",
        "\n",
        "  --------------------------------\n",
        "\n",
        "  **Expected output:**\n",
        "\n",
        "  {\"A\", \"B\", \"C\", \"D\", \"E\" , \"F\"}\n",
        "\n",
        "  Note: The order does not matter"
      ],
      "metadata": {
        "id": "31-KYrN_CXF-"
      }
    },
    {
      "cell_type": "code",
      "source": [
        "#Given this set and list\n",
        "myset = {\"A\", \"B\", \"C\"}\n",
        "mylist = [\"D\", \"E\", \"F\"]\n",
        "\n",
        "#Insert all items in the list into the set\n",
        "myset.update(mylist)\n",
        "\n",
        "#Expected output:\n",
        "print(myset)"
      ],
      "metadata": {
        "id": "LebVfecMCVrm",
        "colab": {
          "base_uri": "https://localhost:8080/"
        },
        "outputId": "aa0e9384-a229-4dbc-d52e-ca91998f7fcc"
      },
      "execution_count": 29,
      "outputs": [
        {
          "output_type": "stream",
          "name": "stdout",
          "text": [
            "{'A', 'F', 'C', 'E', 'B', 'D'}\n"
          ]
        }
      ]
    },
    {
      "cell_type": "markdown",
      "source": [
        "2. Use a function to create a new set that will only contain unique items from both sets.\n",
        "\n",
        "  set1 = {\"A\", \"B\", \"C\"}\n",
        "\n",
        "  set2 = {\"C\", \"B\", \"D\"}\n",
        "\n",
        "  --------------------------------\n",
        "\n",
        "  **Expected output:**\n",
        "\n",
        "  {\"A\", \"B\", \"C\", \"D\"}\n",
        "\n",
        "  Note: The order does not matter"
      ],
      "metadata": {
        "id": "mC-vQoLXDCEk"
      }
    },
    {
      "cell_type": "code",
      "source": [
        "set1 = {\"A\", \"B\", \"C\"}\n",
        "set2 = {\"C\", \"B\", \"D\"}\n",
        "\n",
        "#Use a function to create a new set that will only contain unique items from both sets.\n",
        "def new_set(set1, set2):\n",
        "    new_set = set1 | set2\n",
        "    return new_set\n",
        "\n",
        "result_set = new_set(set1, set2)\n",
        "#Expected output:\n",
        "print(result_set)\n",
        "\n",
        "\n"
      ],
      "metadata": {
        "id": "nxMD_diQDCSJ",
        "colab": {
          "base_uri": "https://localhost:8080/"
        },
        "outputId": "857c5739-acea-46bb-b614-1497f7befe41"
      },
      "execution_count": 39,
      "outputs": [
        {
          "output_type": "stream",
          "name": "stdout",
          "text": [
            "{'B', 'A', 'C', 'D'}\n"
          ]
        }
      ]
    },
    {
      "cell_type": "markdown",
      "source": [
        "3. Given two sets, use a function to update **set1** with items that only appears in **set1** but not in **set2**.\n",
        "\n",
        "  set1 = {1, 2, 3, 4, 5}\n",
        "\n",
        "  set2 = {2, 3, 4}\n",
        "\n",
        "  --------------------------------\n",
        "\n",
        "  **Expected output:**\n",
        "\n",
        "  {1, 5}\n",
        "\n",
        "  Note: The order does not matter"
      ],
      "metadata": {
        "id": "vo1unYAjD7PC"
      }
    },
    {
      "cell_type": "code",
      "source": [
        "set1 = {1, 2, 3, 4, 5}\n",
        "set2 = {2, 3, 4}\n",
        "\n",
        "#Given two sets, use a function to update set1 with items that only appears in set1 but not in set2.\n",
        "def update_set(set1, set2):\n",
        "\n",
        "    set1.difference_update(set2)\n",
        "update_set(set1, set2)\n",
        "\n",
        "#Expected output:\n",
        "print(set1)"
      ],
      "metadata": {
        "id": "V5JILO_oD7io",
        "colab": {
          "base_uri": "https://localhost:8080/"
        },
        "outputId": "3a976f49-24c2-4775-991c-8a8839c3da59"
      },
      "execution_count": 38,
      "outputs": [
        {
          "output_type": "stream",
          "name": "stdout",
          "text": [
            "{1, 5}\n"
          ]
        }
      ]
    },
    {
      "cell_type": "markdown",
      "source": [
        "4. Given the two sets\n",
        "\n",
        "  set1 = {1, 2, 3, 4, 5}\n",
        "\n",
        "  set2 = {6 ,7, 8, 2, 5}\n",
        "\n",
        "  Use a function to create a new set that will only contain common items from set1 and set2\n",
        "\n",
        "  --------------------------------\n",
        "\n",
        "  **Expected output:**\n",
        "\n",
        "  {2, 5}\n",
        "\n",
        "  Note: The order does not matter\n",
        "\n",
        "\n"
      ],
      "metadata": {
        "id": "UD24DfUYEyqK"
      }
    },
    {
      "cell_type": "code",
      "source": [
        "set1 = {1, 2, 3, 4, 5}\n",
        "set2 = {6, 7, 8, 2, 5}\n",
        "\n",
        "#Use a function to create a new set that will only contain common items from set1 and set2\n",
        "def common_items(set1, set2):\n",
        "    com_items = set1.intersection(set2)\n",
        "    return com_items\n",
        "\n",
        "common_set = common_items(set1, set2)\n",
        "\n",
        "print(common_set)"
      ],
      "metadata": {
        "id": "jZXbbssNFAdT",
        "colab": {
          "base_uri": "https://localhost:8080/"
        },
        "outputId": "abfdbd6b-4137-493b-f845-ed885fb62be3"
      },
      "execution_count": 41,
      "outputs": [
        {
          "output_type": "stream",
          "name": "stdout",
          "text": [
            "{2, 5}\n"
          ]
        }
      ]
    },
    {
      "cell_type": "markdown",
      "source": [
        "5. Given the two sets\n",
        "\n",
        "  set1 = {\"APPLE\", \"BANANA\" , \"MANGO\", \"DRAGONFRUIT\"}\n",
        "\n",
        "  set2 = {\"APPLE\", \"GUAVA\", \"CORN\", \"DRAGONFRUIT\"}\n",
        "\n",
        "  Remove items from set1 that are not common to both set1 and set2\n",
        "\n",
        "  --------------------------------\n",
        "\n",
        "  **Expected output:**\n",
        "\n",
        "  {\"APPLE\", \"DRAGONFRUIT\"}\n",
        "\n",
        "  Note: The order does not matter\n",
        "\n"
      ],
      "metadata": {
        "id": "J4rt3u9yGQk6"
      }
    },
    {
      "cell_type": "code",
      "source": [
        "#Given the two sets+\n",
        "set1 = {\"APPLE\", \"BANANA\", \"MANGO\", \"DRAGONFRUIT\"}\n",
        "set2 = {\"APPLE\", \"GUAVA\", \"CORN\", \"DRAGONFRUIT\"}\n",
        "\n",
        "#Remove items from set1 that are not common to both set1 and set2\n",
        "common_items = set1.intersection(set2)\n",
        "set1 = common_items\n",
        "\n",
        "#Expected output:\n",
        "print(set1)"
      ],
      "metadata": {
        "id": "jS1ptbx3GQ4o",
        "colab": {
          "base_uri": "https://localhost:8080/"
        },
        "outputId": "0ac727e9-09a1-4815-c264-e2ff0f1d21da"
      },
      "execution_count": 42,
      "outputs": [
        {
          "output_type": "stream",
          "name": "stdout",
          "text": [
            "{'APPLE', 'DRAGONFRUIT'}\n"
          ]
        }
      ]
    },
    {
      "cell_type": "markdown",
      "source": [
        "# Dictionary"
      ],
      "metadata": {
        "id": "S5qYFrqhJYh_"
      }
    },
    {
      "cell_type": "markdown",
      "source": [
        "1. Given the two lists below\n",
        "\n",
        "  keyslist = ['001', '002', '003']\n",
        "\n",
        "  valueslist = ['RED', 'BLUE', 'GREEN']\n",
        "\n",
        "  Use the **zip()** function to convert them into a dictionary where all items in the keyslist will be the key and the items in the valueslist will be the value\n",
        "\n",
        "  --------------------------------\n",
        "\n",
        "  **Expected output:**\n",
        "\n",
        "  {'001': 'RED', '002': 'BLUE', '003': 'GREEN'}\n",
        "\n",
        "  Note: The order does not matter"
      ],
      "metadata": {
        "id": "Vz-lu0jbIVfi"
      }
    },
    {
      "cell_type": "code",
      "source": [
        "#Given the two lists below\n",
        "keyslist = ['001', '002', '003']\n",
        "valueslist = ['RED', 'BLUE', 'GREEN']\n",
        "\n",
        "#Use the zip() function to convert them into a dictionary where all items in the keyslist will be the key and the items in the valueslist will be the value\n",
        "result_dict = dict(zip(keyslist, valueslist))\n",
        "\n",
        "#Expected output:\n",
        "print(result_dict)"
      ],
      "metadata": {
        "id": "mqxbbzNfIUJ6",
        "colab": {
          "base_uri": "https://localhost:8080/"
        },
        "outputId": "13bb54e2-dd31-4309-f645-35a8143649eb"
      },
      "execution_count": 43,
      "outputs": [
        {
          "output_type": "stream",
          "name": "stdout",
          "text": [
            "{'001': 'RED', '002': 'BLUE', '003': 'GREEN'}\n"
          ]
        }
      ]
    },
    {
      "cell_type": "markdown",
      "source": [
        "2. Merge the two dictionaries below into a single dictionary\n",
        "\n",
        "  dict1 = {'001': 'A', '002': 'B', '003': 'C'}\n",
        "\n",
        "  dict2 = {'004': 'D', '005': 'E', '006': 'F'}\n",
        "\n",
        "  --------------------------------\n",
        "\n",
        "  **Expected output:**\n",
        "\n",
        "  {'001': 'A', '002': 'B', '003': 'C', '004': 'D', '005': 'E', '006': 'F'}\n",
        "\n",
        "  Note: The order does not matter\n",
        "\n"
      ],
      "metadata": {
        "id": "syCyjMMQJtYt"
      }
    },
    {
      "cell_type": "code",
      "source": [
        "#Merge the two dictionaries below into a single dictionary\n",
        "dict1 = {'001': 'A', '002': 'B', '003': 'C'}\n",
        "dict2 = {'004': 'D', '005': 'E', '006': 'F'}\n",
        "\n",
        "dict1.update(dict2)\n",
        "\n",
        "#Expected output:\n",
        "print(dict1)"
      ],
      "metadata": {
        "id": "1cm1ta7pKTTL",
        "colab": {
          "base_uri": "https://localhost:8080/"
        },
        "outputId": "2be39dca-7962-4059-8d26-475f8c2ce008"
      },
      "execution_count": 44,
      "outputs": [
        {
          "output_type": "stream",
          "name": "stdout",
          "text": [
            "{'001': 'A', '002': 'B', '003': 'C', '004': 'D', '005': 'E', '006': 'F'}\n"
          ]
        }
      ]
    },
    {
      "cell_type": "markdown",
      "source": [
        "3. Given this dictionary\n",
        "\n",
        "    dict1 = {\n",
        "    \"name\": \"elizer\",\n",
        "    \"age\": 25,\n",
        "    \"surname\": \"ponio\",\n",
        "    \"city\": \"manila\"}\n",
        "\n",
        "  Create a new dictionary that will only contain elements extracted using the name and surname keys.\n",
        "\n",
        "  --------------------------------\n",
        "\n",
        "  **Expected output:**\n",
        "\n",
        "  {'name': 'elizer', 'surname': ponio}\n",
        "\n",
        "  Note: The order does not matter"
      ],
      "metadata": {
        "id": "zgtELDVGKPs6"
      }
    },
    {
      "cell_type": "code",
      "source": [
        "#Given this dictionary\n",
        "dict1 = {\"name\": \"elizer\", \"age\": 25, \"surname\": \"ponio\", \"city\": \"manila\"}\n",
        "\n",
        "#Create a new dictionary that will only contain elements extracted using the name and surname keys.\n",
        "new_dictionary = {\n",
        "    \"name\": dict1[\"name\"],\n",
        "    \"surname\": dict1[\"surname\"]\n",
        "}\n",
        "\n",
        "#Expected output:\n",
        "print(new_dictionary)"
      ],
      "metadata": {
        "id": "CCFaPPdfKOhJ",
        "colab": {
          "base_uri": "https://localhost:8080/"
        },
        "outputId": "6432ac41-b7fc-408a-f905-197a782dcff7"
      },
      "execution_count": 47,
      "outputs": [
        {
          "output_type": "stream",
          "name": "stdout",
          "text": [
            "{'name': 'elizer', 'surname': 'ponio'}\n"
          ]
        }
      ]
    },
    {
      "cell_type": "markdown",
      "source": [
        "4. Given this dictionary\n",
        "\n",
        "    dict1 = {\n",
        "    \"name\": \"elizer\",\n",
        "    \"age\": 25,\n",
        "    \"surname\": \"ponio\",\n",
        "    \"city\": \"New york\"}\n",
        "\n",
        "  Check if the value \"ponio\" is present in the dictionary\n",
        "\n",
        "  --------------------------------\n",
        "\n",
        "  **Expected output:**\n",
        "\n",
        "  \"ponio\" exists in the dictionary\n",
        "\n",
        "  Note: The order does not matter"
      ],
      "metadata": {
        "id": "4dAHmssXKOyX"
      }
    },
    {
      "cell_type": "code",
      "source": [
        "#Given this dictionary\n",
        "dict1 = {\"name\": \"elizer\", \"age\": 25, \"surname\": \"ponio\", \"city\": \"New York\"}\n",
        "\n",
        "#Check if the value \"ponio\" is present in the dictionary\n",
        "if \"ponio\" in dict1.values():\n",
        "    #Expected output:\n",
        "    print(\"\\\"ponio\\\" exists in the dictionary\")\n",
        "else:\n",
        "    print(\"\\\"ponio\\\" does not exist in the dictionary\")\n"
      ],
      "metadata": {
        "id": "vE5z05MILtDX",
        "colab": {
          "base_uri": "https://localhost:8080/"
        },
        "outputId": "049402fd-2ccd-4ca8-93c6-e7b6f7b29268"
      },
      "execution_count": 50,
      "outputs": [
        {
          "output_type": "stream",
          "name": "stdout",
          "text": [
            "\"ponio\" exists in the dictionary\n"
          ]
        }
      ]
    },
    {
      "cell_type": "markdown",
      "source": [
        "5. Given this dictionary\n",
        "\n",
        "    dict1 = {\n",
        "    \"name\": \"elizer\",\n",
        "    \"age\": 25,\n",
        "    \"surname\": \"ponio\",\n",
        "    \"city\": \"manila\"}\n",
        "\n",
        "  Rename the key \"name\" to \"firstname\"\n",
        "\n",
        "  --------------------------------\n",
        "\n",
        "  **Expected output:**\n",
        "\n",
        "    {\n",
        "    \"firstname\": \"elizer\",\n",
        "    \"age\": 25,\n",
        "    \"surname\": \"ponio\",\n",
        "    \"city\": \"manila\"}\n",
        "\n",
        "  Note: The order does not matter"
      ],
      "metadata": {
        "id": "Diz40L2uLq9c"
      }
    },
    {
      "cell_type": "code",
      "source": [
        "#Given this dictionary\n",
        "dict1 = {\"name\": \"elizer\", \"age\": 25, \"surname\": \"ponio\", \"city\": \"manila\"}\n",
        "\n",
        "#Rename the key \"name\" to \"firstname\"\n",
        "dict1[\"firstname\"] = dict1.pop(\"name\")\n",
        "\n",
        "#Expected output:\n",
        "print(dict1)\n"
      ],
      "metadata": {
        "id": "6V5oEAGGLQrO",
        "colab": {
          "base_uri": "https://localhost:8080/"
        },
        "outputId": "7d0cce86-42f3-41e2-898c-aeb7921a3c47"
      },
      "execution_count": 53,
      "outputs": [
        {
          "output_type": "stream",
          "name": "stdout",
          "text": [
            "{'age': 25, 'surname': 'ponio', 'city': 'manila', 'firstname': 'elizer'}\n"
          ]
        }
      ]
    }
  ]
}